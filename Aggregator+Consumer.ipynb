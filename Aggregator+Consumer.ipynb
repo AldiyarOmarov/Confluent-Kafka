{
 "cells": [
  {
   "cell_type": "markdown",
   "metadata": {},
   "source": [
    "Imports"
   ]
  },
  {
   "cell_type": "code",
   "execution_count": 1,
   "metadata": {},
   "outputs": [],
   "source": [
    "import pandas as pd\n",
    "import numpy as np\n",
    "import os\n",
    "import json\n",
    "from confluent_kafka import Consumer, KafkaError"
   ]
  },
  {
   "cell_type": "markdown",
   "metadata": {},
   "source": [
    "Functions"
   ]
  },
  {
   "cell_type": "code",
   "execution_count": 2,
   "metadata": {},
   "outputs": [],
   "source": [
    "columns = ['exchange', 'volume_1', 'volume_2', 'volume_3', 'volume_4', 'volume_5', 'volume_6']\n",
    "trade_volume_df = pd.DataFrame(columns=columns)\n",
    "\n",
    "def process_and_save_volumes(data):\n",
    "    global trade_volume_df\n",
    "    \n",
    "    exchange_name = data['name']\n",
    "    volumes = data['volume']\n",
    "    \n",
    "    valid_volumes = []\n",
    "    for item in volumes:\n",
    "        try:\n",
    "            volume_value = float(item[1])\n",
    "            valid_volumes.append(volume_value)\n",
    "        except ValueError:\n",
    "            continue\n",
    "    \n",
    "    num_chunks = 6\n",
    "    if len(valid_volumes) < num_chunks:\n",
    "        return\n",
    "    \n",
    "    chunk_size = len(valid_volumes) // num_chunks\n",
    "    volumes_chunks = [valid_volumes[i:i+chunk_size] for i in range(0, len(valid_volumes), chunk_size)]\n",
    "    volumes_avg = [np.mean(chunk) for chunk in volumes_chunks]\n",
    "    new_row = {'exchange': exchange_name, **{f'volume_{i+1}': v for i, v in enumerate(volumes_avg)}}\n",
    "    trade_volume_df = pd.concat([trade_volume_df, pd.DataFrame([new_row])], ignore_index=True)\n",
    "    \n",
    "    if len(trade_volume_df) >= 5:\n",
    "        save_to_csv(trade_volume_df)\n",
    "        trade_volume_df = pd.DataFrame(columns=columns)\n",
    "\n",
    "def save_to_csv(dataframe):\n",
    "    filename = 'output.csv'      \n",
    "    dataframe.set_index('exchange', inplace=True)\n",
    "    \n",
    "    if os.path.exists(filename):\n",
    "        existing_data = pd.read_csv(filename, index_col=0)\n",
    "        combined_data = pd.concat([existing_data, dataframe], axis=0)\n",
    "        \n",
    "        combined_data.sort_index(inplace=True)        \n",
    "        combined_data.to_csv(filename)\n",
    "    else:\n",
    "        dataframe.sort_index(inplace=True)        \n",
    "        dataframe.to_csv(filename, index=True)\n"
   ]
  },
  {
   "cell_type": "markdown",
   "metadata": {},
   "source": [
    "Consumer"
   ]
  },
  {
   "cell_type": "code",
   "execution_count": 3,
   "metadata": {},
   "outputs": [
    {
     "name": "stderr",
     "output_type": "stream",
     "text": [
      "/tmp/ipykernel_5907/167063995.py:26: FutureWarning: The behavior of DataFrame concatenation with empty or all-NA entries is deprecated. In a future version, this will no longer exclude empty or all-NA columns when determining the result dtypes. To retain the old behavior, exclude the relevant entries before the concat operation.\n",
      "  trade_volume_df = pd.concat([trade_volume_df, pd.DataFrame([new_row])], ignore_index=True)\n",
      "/tmp/ipykernel_5907/167063995.py:26: FutureWarning: The behavior of DataFrame concatenation with empty or all-NA entries is deprecated. In a future version, this will no longer exclude empty or all-NA columns when determining the result dtypes. To retain the old behavior, exclude the relevant entries before the concat operation.\n",
      "  trade_volume_df = pd.concat([trade_volume_df, pd.DataFrame([new_row])], ignore_index=True)\n",
      "%6|1712746081.312|FAIL|rdkafka#consumer-1| [thrd:localhost:9092/bootstrap]: localhost:9092/1: Disconnected (after 1019501ms in state UP)\n",
      "%6|1712746081.312|FAIL|rdkafka#consumer-1| [thrd:GroupCoordinator]: GroupCoordinator: localhost:9092: Disconnected (after 1019500ms in state UP)\n",
      "%3|1712746081.312|FAIL|rdkafka#consumer-1| [thrd:localhost:9092/bootstrap]: localhost:9092/1: Connect to ipv4#127.0.0.1:9092 failed: Connection refused (after 0ms in state CONNECT)\n",
      "%3|1712746081.312|FAIL|rdkafka#consumer-1| [thrd:GroupCoordinator]: GroupCoordinator: localhost:9092: Connect to ipv4#127.0.0.1:9092 failed: Connection refused (after 0ms in state CONNECT)\n",
      "%3|1712746081.526|FAIL|rdkafka#consumer-1| [thrd:localhost:9092/bootstrap]: localhost:9092/1: Connect to ipv4#127.0.0.1:9092 failed: Connection refused (after 0ms in state CONNECT, 1 identical error(s) suppressed)\n",
      "%3|1712746081.587|FAIL|rdkafka#consumer-1| [thrd:GroupCoordinator]: GroupCoordinator: localhost:9092: Connect to ipv4#127.0.0.1:9092 failed: Connection refused (after 0ms in state CONNECT, 1 identical error(s) suppressed)\n"
     ]
    }
   ],
   "source": [
    "consumer_conf = {\n",
    "    'bootstrap.servers': 'localhost:9092',\n",
    "    'group.id': 'exchange_volume_group',\n",
    "    'auto.offset.reset': 'earliest'\n",
    "}\n",
    "\n",
    "c = Consumer(consumer_conf)\n",
    "c.subscribe(['exchange_volume_topic'])\n",
    "\n",
    "try:\n",
    "    while True:\n",
    "        msg = c.poll(2.0)\n",
    "        if msg is None:\n",
    "            continue\n",
    "        if msg.error():\n",
    "            if msg.error().code() == KafkaError._PARTITION_EOF:\n",
    "                continue\n",
    "            else:\n",
    "                print(f'Consumer error: {msg.error()}')\n",
    "                break\n",
    "        data = json.loads(msg.value().decode('utf-8'))\n",
    "        process_and_save_volumes(data)\n",
    "except KeyboardInterrupt:\n",
    "    pass\n",
    "finally:\n",
    "    c.close()\n"
   ]
  },
  {
   "cell_type": "code",
   "execution_count": null,
   "metadata": {},
   "outputs": [],
   "source": []
  }
 ],
 "metadata": {
  "kernelspec": {
   "display_name": "Python 3",
   "language": "python",
   "name": "python3"
  },
  "language_info": {
   "codemirror_mode": {
    "name": "ipython",
    "version": 3
   },
   "file_extension": ".py",
   "mimetype": "text/x-python",
   "name": "python",
   "nbconvert_exporter": "python",
   "pygments_lexer": "ipython3",
   "version": "3.10.12"
  }
 },
 "nbformat": 4,
 "nbformat_minor": 2
}
